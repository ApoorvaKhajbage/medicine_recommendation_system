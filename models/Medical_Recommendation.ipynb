{
  "cells": [
    {
      "cell_type": "markdown",
      "metadata": {
        "id": "B8PYm2GPvlff"
      },
      "source": [
        "Dependencies"
      ]
    },
    {
      "cell_type": "code",
      "execution_count": 8,
      "metadata": {
        "colab": {
          "base_uri": "https://localhost:8080/",
          "height": 370
        },
        "id": "2FgqsFcgvnvg",
        "outputId": "2ae8c086-94d5-4294-c069-3cfe0cdfc8e4"
      },
      "outputs": [
        {
          "name": "stdout",
          "output_type": "stream",
          "text": [
            "Requirement already satisfied: scikit-learn in e:\\programms\\ml project\\medicine_recommendation_system\\.venv\\lib\\site-packages (1.4.1.post1)\n",
            "Requirement already satisfied: numpy<2.0,>=1.19.5 in e:\\programms\\ml project\\medicine_recommendation_system\\.venv\\lib\\site-packages (from scikit-learn) (1.26.4)\n",
            "Requirement already satisfied: scipy>=1.6.0 in e:\\programms\\ml project\\medicine_recommendation_system\\.venv\\lib\\site-packages (from scikit-learn) (1.12.0)\n",
            "Requirement already satisfied: joblib>=1.2.0 in e:\\programms\\ml project\\medicine_recommendation_system\\.venv\\lib\\site-packages (from scikit-learn) (1.3.2)\n",
            "Requirement already satisfied: threadpoolctl>=2.0.0 in e:\\programms\\ml project\\medicine_recommendation_system\\.venv\\lib\\site-packages (from scikit-learn) (3.3.0)\n",
            "Note: you may need to restart the kernel to use updated packages.\n"
          ]
        }
      ],
      "source": [
        "%pip install -U scikit-learn\n"
      ]
    },
    {
      "cell_type": "markdown",
      "metadata": {
        "id": "a_-geGRdr5cO"
      },
      "source": [
        "Preprocessing Dataset"
      ]
    },
    {
      "cell_type": "code",
      "execution_count": 9,
      "metadata": {
        "id": "TK8MICsVrzVn"
      },
      "outputs": [],
      "source": [
        "import pandas as pd"
      ]
    },
    {
      "cell_type": "code",
      "execution_count": 10,
      "metadata": {
        "id": "thZYQWFUsnW2"
      },
      "outputs": [],
      "source": [
        "dataset = pd.read_csv('E:\\Programms\\ML Project\\medicine_recommendation_system\\datasets\\Training.csv')\n"
      ]
    },
    {
      "cell_type": "code",
      "execution_count": 11,
      "metadata": {
        "colab": {
          "base_uri": "https://localhost:8080/",
          "height": 342
        },
        "id": "W5O4KYxJss7i",
        "outputId": "d02dcac2-d12e-4f8d-c73a-b926c35f909d"
      },
      "outputs": [
        {
          "data": {
            "text/html": [
              "<div>\n",
              "<style scoped>\n",
              "    .dataframe tbody tr th:only-of-type {\n",
              "        vertical-align: middle;\n",
              "    }\n",
              "\n",
              "    .dataframe tbody tr th {\n",
              "        vertical-align: top;\n",
              "    }\n",
              "\n",
              "    .dataframe thead th {\n",
              "        text-align: right;\n",
              "    }\n",
              "</style>\n",
              "<table border=\"1\" class=\"dataframe\">\n",
              "  <thead>\n",
              "    <tr style=\"text-align: right;\">\n",
              "      <th></th>\n",
              "      <th>itching</th>\n",
              "      <th>skin_rash</th>\n",
              "      <th>nodal_skin_eruptions</th>\n",
              "      <th>continuous_sneezing</th>\n",
              "      <th>shivering</th>\n",
              "      <th>chills</th>\n",
              "      <th>joint_pain</th>\n",
              "      <th>stomach_pain</th>\n",
              "      <th>acidity</th>\n",
              "      <th>ulcers_on_tongue</th>\n",
              "      <th>...</th>\n",
              "      <th>blackheads</th>\n",
              "      <th>scurring</th>\n",
              "      <th>skin_peeling</th>\n",
              "      <th>silver_like_dusting</th>\n",
              "      <th>small_dents_in_nails</th>\n",
              "      <th>inflammatory_nails</th>\n",
              "      <th>blister</th>\n",
              "      <th>red_sore_around_nose</th>\n",
              "      <th>yellow_crust_ooze</th>\n",
              "      <th>prognosis</th>\n",
              "    </tr>\n",
              "  </thead>\n",
              "  <tbody>\n",
              "    <tr>\n",
              "      <th>0</th>\n",
              "      <td>1</td>\n",
              "      <td>1</td>\n",
              "      <td>1</td>\n",
              "      <td>0</td>\n",
              "      <td>0</td>\n",
              "      <td>0</td>\n",
              "      <td>0</td>\n",
              "      <td>0</td>\n",
              "      <td>0</td>\n",
              "      <td>0</td>\n",
              "      <td>...</td>\n",
              "      <td>0</td>\n",
              "      <td>0</td>\n",
              "      <td>0</td>\n",
              "      <td>0</td>\n",
              "      <td>0</td>\n",
              "      <td>0</td>\n",
              "      <td>0</td>\n",
              "      <td>0</td>\n",
              "      <td>0</td>\n",
              "      <td>Fungal infection</td>\n",
              "    </tr>\n",
              "    <tr>\n",
              "      <th>1</th>\n",
              "      <td>0</td>\n",
              "      <td>1</td>\n",
              "      <td>1</td>\n",
              "      <td>0</td>\n",
              "      <td>0</td>\n",
              "      <td>0</td>\n",
              "      <td>0</td>\n",
              "      <td>0</td>\n",
              "      <td>0</td>\n",
              "      <td>0</td>\n",
              "      <td>...</td>\n",
              "      <td>0</td>\n",
              "      <td>0</td>\n",
              "      <td>0</td>\n",
              "      <td>0</td>\n",
              "      <td>0</td>\n",
              "      <td>0</td>\n",
              "      <td>0</td>\n",
              "      <td>0</td>\n",
              "      <td>0</td>\n",
              "      <td>Fungal infection</td>\n",
              "    </tr>\n",
              "    <tr>\n",
              "      <th>2</th>\n",
              "      <td>1</td>\n",
              "      <td>0</td>\n",
              "      <td>1</td>\n",
              "      <td>0</td>\n",
              "      <td>0</td>\n",
              "      <td>0</td>\n",
              "      <td>0</td>\n",
              "      <td>0</td>\n",
              "      <td>0</td>\n",
              "      <td>0</td>\n",
              "      <td>...</td>\n",
              "      <td>0</td>\n",
              "      <td>0</td>\n",
              "      <td>0</td>\n",
              "      <td>0</td>\n",
              "      <td>0</td>\n",
              "      <td>0</td>\n",
              "      <td>0</td>\n",
              "      <td>0</td>\n",
              "      <td>0</td>\n",
              "      <td>Fungal infection</td>\n",
              "    </tr>\n",
              "    <tr>\n",
              "      <th>3</th>\n",
              "      <td>1</td>\n",
              "      <td>1</td>\n",
              "      <td>0</td>\n",
              "      <td>0</td>\n",
              "      <td>0</td>\n",
              "      <td>0</td>\n",
              "      <td>0</td>\n",
              "      <td>0</td>\n",
              "      <td>0</td>\n",
              "      <td>0</td>\n",
              "      <td>...</td>\n",
              "      <td>0</td>\n",
              "      <td>0</td>\n",
              "      <td>0</td>\n",
              "      <td>0</td>\n",
              "      <td>0</td>\n",
              "      <td>0</td>\n",
              "      <td>0</td>\n",
              "      <td>0</td>\n",
              "      <td>0</td>\n",
              "      <td>Fungal infection</td>\n",
              "    </tr>\n",
              "    <tr>\n",
              "      <th>4</th>\n",
              "      <td>1</td>\n",
              "      <td>1</td>\n",
              "      <td>1</td>\n",
              "      <td>0</td>\n",
              "      <td>0</td>\n",
              "      <td>0</td>\n",
              "      <td>0</td>\n",
              "      <td>0</td>\n",
              "      <td>0</td>\n",
              "      <td>0</td>\n",
              "      <td>...</td>\n",
              "      <td>0</td>\n",
              "      <td>0</td>\n",
              "      <td>0</td>\n",
              "      <td>0</td>\n",
              "      <td>0</td>\n",
              "      <td>0</td>\n",
              "      <td>0</td>\n",
              "      <td>0</td>\n",
              "      <td>0</td>\n",
              "      <td>Fungal infection</td>\n",
              "    </tr>\n",
              "  </tbody>\n",
              "</table>\n",
              "<p>5 rows × 133 columns</p>\n",
              "</div>"
            ],
            "text/plain": [
              "   itching  skin_rash  nodal_skin_eruptions  continuous_sneezing  shivering  \\\n",
              "0        1          1                     1                    0          0   \n",
              "1        0          1                     1                    0          0   \n",
              "2        1          0                     1                    0          0   \n",
              "3        1          1                     0                    0          0   \n",
              "4        1          1                     1                    0          0   \n",
              "\n",
              "   chills  joint_pain  stomach_pain  acidity  ulcers_on_tongue  ...  \\\n",
              "0       0           0             0        0                 0  ...   \n",
              "1       0           0             0        0                 0  ...   \n",
              "2       0           0             0        0                 0  ...   \n",
              "3       0           0             0        0                 0  ...   \n",
              "4       0           0             0        0                 0  ...   \n",
              "\n",
              "   blackheads  scurring  skin_peeling  silver_like_dusting  \\\n",
              "0           0         0             0                    0   \n",
              "1           0         0             0                    0   \n",
              "2           0         0             0                    0   \n",
              "3           0         0             0                    0   \n",
              "4           0         0             0                    0   \n",
              "\n",
              "   small_dents_in_nails  inflammatory_nails  blister  red_sore_around_nose  \\\n",
              "0                     0                   0        0                     0   \n",
              "1                     0                   0        0                     0   \n",
              "2                     0                   0        0                     0   \n",
              "3                     0                   0        0                     0   \n",
              "4                     0                   0        0                     0   \n",
              "\n",
              "   yellow_crust_ooze         prognosis  \n",
              "0                  0  Fungal infection  \n",
              "1                  0  Fungal infection  \n",
              "2                  0  Fungal infection  \n",
              "3                  0  Fungal infection  \n",
              "4                  0  Fungal infection  \n",
              "\n",
              "[5 rows x 133 columns]"
            ]
          },
          "execution_count": 11,
          "metadata": {},
          "output_type": "execute_result"
        }
      ],
      "source": [
        "dataset.head()"
      ]
    },
    {
      "cell_type": "code",
      "execution_count": 12,
      "metadata": {
        "colab": {
          "base_uri": "https://localhost:8080/"
        },
        "id": "Btm-n_iKsvAR",
        "outputId": "2bd465ec-5bb5-4612-d57d-724a3f1811dc"
      },
      "outputs": [
        {
          "data": {
            "text/plain": [
              "(4920, 133)"
            ]
          },
          "execution_count": 12,
          "metadata": {},
          "output_type": "execute_result"
        }
      ],
      "source": [
        "dataset.shape"
      ]
    },
    {
      "cell_type": "code",
      "execution_count": 13,
      "metadata": {
        "colab": {
          "base_uri": "https://localhost:8080/"
        },
        "id": "6b3tqQmws5vc",
        "outputId": "a465c756-b100-4c65-c048-cc8ac7f20d65"
      },
      "outputs": [
        {
          "data": {
            "text/plain": [
              "itching                 0\n",
              "skin_rash               0\n",
              "nodal_skin_eruptions    0\n",
              "continuous_sneezing     0\n",
              "shivering               0\n",
              "                       ..\n",
              "inflammatory_nails      0\n",
              "blister                 0\n",
              "red_sore_around_nose    0\n",
              "yellow_crust_ooze       0\n",
              "prognosis               0\n",
              "Length: 133, dtype: int64"
            ]
          },
          "execution_count": 13,
          "metadata": {},
          "output_type": "execute_result"
        }
      ],
      "source": [
        "dataset.isnull().sum()"
      ]
    },
    {
      "cell_type": "markdown",
      "metadata": {
        "id": "AiJDHClouUwO"
      },
      "source": [
        "\n",
        "\n",
        "```\n",
        "# This is formatted as code\n",
        "```\n",
        "\n",
        "## Train-test Split"
      ]
    },
    {
      "cell_type": "code",
      "execution_count": 14,
      "metadata": {
        "id": "2owSyB4BuNAT"
      },
      "outputs": [],
      "source": [
        "from sklearn.model_selection import train_test_split\n",
        "from sklearn.preprocessing import LabelEncoder"
      ]
    },
    {
      "cell_type": "code",
      "execution_count": 15,
      "metadata": {
        "id": "USg1MJ5_uiEy"
      },
      "outputs": [],
      "source": [
        "X = dataset.drop('prognosis',axis=1)\n",
        "y = dataset['prognosis']"
      ]
    },
    {
      "cell_type": "code",
      "execution_count": 16,
      "metadata": {
        "colab": {
          "base_uri": "https://localhost:8080/",
          "height": 255
        },
        "id": "PB-k3akAu4sR",
        "outputId": "f2831575-dbe7-4244-b39d-cd83582f5941"
      },
      "outputs": [
        {
          "data": {
            "text/html": [
              "<div>\n",
              "<style scoped>\n",
              "    .dataframe tbody tr th:only-of-type {\n",
              "        vertical-align: middle;\n",
              "    }\n",
              "\n",
              "    .dataframe tbody tr th {\n",
              "        vertical-align: top;\n",
              "    }\n",
              "\n",
              "    .dataframe thead th {\n",
              "        text-align: right;\n",
              "    }\n",
              "</style>\n",
              "<table border=\"1\" class=\"dataframe\">\n",
              "  <thead>\n",
              "    <tr style=\"text-align: right;\">\n",
              "      <th></th>\n",
              "      <th>itching</th>\n",
              "      <th>skin_rash</th>\n",
              "      <th>nodal_skin_eruptions</th>\n",
              "      <th>continuous_sneezing</th>\n",
              "      <th>shivering</th>\n",
              "      <th>chills</th>\n",
              "      <th>joint_pain</th>\n",
              "      <th>stomach_pain</th>\n",
              "      <th>acidity</th>\n",
              "      <th>ulcers_on_tongue</th>\n",
              "      <th>...</th>\n",
              "      <th>pus_filled_pimples</th>\n",
              "      <th>blackheads</th>\n",
              "      <th>scurring</th>\n",
              "      <th>skin_peeling</th>\n",
              "      <th>silver_like_dusting</th>\n",
              "      <th>small_dents_in_nails</th>\n",
              "      <th>inflammatory_nails</th>\n",
              "      <th>blister</th>\n",
              "      <th>red_sore_around_nose</th>\n",
              "      <th>yellow_crust_ooze</th>\n",
              "    </tr>\n",
              "  </thead>\n",
              "  <tbody>\n",
              "    <tr>\n",
              "      <th>0</th>\n",
              "      <td>1</td>\n",
              "      <td>1</td>\n",
              "      <td>1</td>\n",
              "      <td>0</td>\n",
              "      <td>0</td>\n",
              "      <td>0</td>\n",
              "      <td>0</td>\n",
              "      <td>0</td>\n",
              "      <td>0</td>\n",
              "      <td>0</td>\n",
              "      <td>...</td>\n",
              "      <td>0</td>\n",
              "      <td>0</td>\n",
              "      <td>0</td>\n",
              "      <td>0</td>\n",
              "      <td>0</td>\n",
              "      <td>0</td>\n",
              "      <td>0</td>\n",
              "      <td>0</td>\n",
              "      <td>0</td>\n",
              "      <td>0</td>\n",
              "    </tr>\n",
              "    <tr>\n",
              "      <th>1</th>\n",
              "      <td>0</td>\n",
              "      <td>1</td>\n",
              "      <td>1</td>\n",
              "      <td>0</td>\n",
              "      <td>0</td>\n",
              "      <td>0</td>\n",
              "      <td>0</td>\n",
              "      <td>0</td>\n",
              "      <td>0</td>\n",
              "      <td>0</td>\n",
              "      <td>...</td>\n",
              "      <td>0</td>\n",
              "      <td>0</td>\n",
              "      <td>0</td>\n",
              "      <td>0</td>\n",
              "      <td>0</td>\n",
              "      <td>0</td>\n",
              "      <td>0</td>\n",
              "      <td>0</td>\n",
              "      <td>0</td>\n",
              "      <td>0</td>\n",
              "    </tr>\n",
              "    <tr>\n",
              "      <th>2</th>\n",
              "      <td>1</td>\n",
              "      <td>0</td>\n",
              "      <td>1</td>\n",
              "      <td>0</td>\n",
              "      <td>0</td>\n",
              "      <td>0</td>\n",
              "      <td>0</td>\n",
              "      <td>0</td>\n",
              "      <td>0</td>\n",
              "      <td>0</td>\n",
              "      <td>...</td>\n",
              "      <td>0</td>\n",
              "      <td>0</td>\n",
              "      <td>0</td>\n",
              "      <td>0</td>\n",
              "      <td>0</td>\n",
              "      <td>0</td>\n",
              "      <td>0</td>\n",
              "      <td>0</td>\n",
              "      <td>0</td>\n",
              "      <td>0</td>\n",
              "    </tr>\n",
              "    <tr>\n",
              "      <th>3</th>\n",
              "      <td>1</td>\n",
              "      <td>1</td>\n",
              "      <td>0</td>\n",
              "      <td>0</td>\n",
              "      <td>0</td>\n",
              "      <td>0</td>\n",
              "      <td>0</td>\n",
              "      <td>0</td>\n",
              "      <td>0</td>\n",
              "      <td>0</td>\n",
              "      <td>...</td>\n",
              "      <td>0</td>\n",
              "      <td>0</td>\n",
              "      <td>0</td>\n",
              "      <td>0</td>\n",
              "      <td>0</td>\n",
              "      <td>0</td>\n",
              "      <td>0</td>\n",
              "      <td>0</td>\n",
              "      <td>0</td>\n",
              "      <td>0</td>\n",
              "    </tr>\n",
              "    <tr>\n",
              "      <th>4</th>\n",
              "      <td>1</td>\n",
              "      <td>1</td>\n",
              "      <td>1</td>\n",
              "      <td>0</td>\n",
              "      <td>0</td>\n",
              "      <td>0</td>\n",
              "      <td>0</td>\n",
              "      <td>0</td>\n",
              "      <td>0</td>\n",
              "      <td>0</td>\n",
              "      <td>...</td>\n",
              "      <td>0</td>\n",
              "      <td>0</td>\n",
              "      <td>0</td>\n",
              "      <td>0</td>\n",
              "      <td>0</td>\n",
              "      <td>0</td>\n",
              "      <td>0</td>\n",
              "      <td>0</td>\n",
              "      <td>0</td>\n",
              "      <td>0</td>\n",
              "    </tr>\n",
              "  </tbody>\n",
              "</table>\n",
              "<p>5 rows × 132 columns</p>\n",
              "</div>"
            ],
            "text/plain": [
              "   itching  skin_rash  nodal_skin_eruptions  continuous_sneezing  shivering  \\\n",
              "0        1          1                     1                    0          0   \n",
              "1        0          1                     1                    0          0   \n",
              "2        1          0                     1                    0          0   \n",
              "3        1          1                     0                    0          0   \n",
              "4        1          1                     1                    0          0   \n",
              "\n",
              "   chills  joint_pain  stomach_pain  acidity  ulcers_on_tongue  ...  \\\n",
              "0       0           0             0        0                 0  ...   \n",
              "1       0           0             0        0                 0  ...   \n",
              "2       0           0             0        0                 0  ...   \n",
              "3       0           0             0        0                 0  ...   \n",
              "4       0           0             0        0                 0  ...   \n",
              "\n",
              "   pus_filled_pimples  blackheads  scurring  skin_peeling  \\\n",
              "0                   0           0         0             0   \n",
              "1                   0           0         0             0   \n",
              "2                   0           0         0             0   \n",
              "3                   0           0         0             0   \n",
              "4                   0           0         0             0   \n",
              "\n",
              "   silver_like_dusting  small_dents_in_nails  inflammatory_nails  blister  \\\n",
              "0                    0                     0                   0        0   \n",
              "1                    0                     0                   0        0   \n",
              "2                    0                     0                   0        0   \n",
              "3                    0                     0                   0        0   \n",
              "4                    0                     0                   0        0   \n",
              "\n",
              "   red_sore_around_nose  yellow_crust_ooze  \n",
              "0                     0                  0  \n",
              "1                     0                  0  \n",
              "2                     0                  0  \n",
              "3                     0                  0  \n",
              "4                     0                  0  \n",
              "\n",
              "[5 rows x 132 columns]"
            ]
          },
          "execution_count": 16,
          "metadata": {},
          "output_type": "execute_result"
        }
      ],
      "source": [
        "X.head()"
      ]
    },
    {
      "cell_type": "code",
      "execution_count": 17,
      "metadata": {
        "colab": {
          "base_uri": "https://localhost:8080/"
        },
        "id": "wBx--F9Pu7RW",
        "outputId": "0c73868b-e65f-4f89-91f4-ac7a39dca767"
      },
      "outputs": [
        {
          "data": {
            "text/plain": [
              "0    Fungal infection\n",
              "1    Fungal infection\n",
              "2    Fungal infection\n",
              "3    Fungal infection\n",
              "4    Fungal infection\n",
              "Name: prognosis, dtype: object"
            ]
          },
          "execution_count": 17,
          "metadata": {},
          "output_type": "execute_result"
        }
      ],
      "source": [
        "y.head()"
      ]
    },
    {
      "cell_type": "code",
      "execution_count": 18,
      "metadata": {
        "id": "Boc066Uvuucg"
      },
      "outputs": [],
      "source": [
        "#Encoding Prognosis\n",
        "le = LabelEncoder()\n",
        "le.fit(y)\n",
        "Y = le.transform(y)"
      ]
    },
    {
      "cell_type": "code",
      "execution_count": 19,
      "metadata": {
        "colab": {
          "base_uri": "https://localhost:8080/"
        },
        "id": "aNkWYRtV7-v2",
        "outputId": "7f8f32fe-0c44-4edf-be94-5df02d2cec64"
      },
      "outputs": [
        {
          "data": {
            "text/plain": [
              "array([15, 15, 15, ..., 38, 35, 27])"
            ]
          },
          "execution_count": 19,
          "metadata": {},
          "output_type": "execute_result"
        }
      ],
      "source": [
        "Y"
      ]
    },
    {
      "cell_type": "code",
      "execution_count": 20,
      "metadata": {
        "id": "YlFw2Sdcu1jq"
      },
      "outputs": [],
      "source": [
        "X_train, X_test, y_train, y_test = train_test_split(X, Y, test_size=0.3, random_state=20)"
      ]
    },
    {
      "cell_type": "markdown",
      "metadata": {
        "id": "2vy5SeXxvy-8"
      },
      "source": [
        "## Training on Models"
      ]
    },
    {
      "cell_type": "code",
      "execution_count": 21,
      "metadata": {
        "id": "NIvwVhjuvS1m"
      },
      "outputs": [],
      "source": [
        "from sklearn.datasets import make_classification\n",
        "from sklearn.svm import SVC\n",
        "from sklearn.ensemble import RandomForestClassifier, GradientBoostingClassifier\n",
        "from sklearn.neighbors import KNeighborsClassifier\n",
        "from sklearn.naive_bayes import MultinomialNB\n",
        "from sklearn.metrics import accuracy_score, confusion_matrix\n",
        "import numpy as np"
      ]
    },
    {
      "cell_type": "code",
      "execution_count": 22,
      "metadata": {
        "id": "n3mnA18dwiDT"
      },
      "outputs": [],
      "source": [
        "# dictionary to store models\n",
        "models = {\n",
        "    'SVC': SVC(kernel='linear'),\n",
        "    'RandomForest':RandomForestClassifier(n_estimators=100,random_state=42),\n",
        "    'GradientBoosting':GradientBoostingClassifier(n_estimators=100, random_state=42),\n",
        "    'KNeighbors': KNeighborsClassifier(n_neighbors=5),\n",
        "    'MultinomialNB': MultinomialNB()\n",
        "}"
      ]
    },
    {
      "cell_type": "code",
      "execution_count": 23,
      "metadata": {
        "colab": {
          "base_uri": "https://localhost:8080/"
        },
        "id": "zTOMosNhxZmn",
        "outputId": "f6194f83-fc9e-425d-c2a0-b8e819ef5faf"
      },
      "outputs": [
        {
          "name": "stdout",
          "output_type": "stream",
          "text": [
            "SVC Accuracy: 1.0\n",
            "SVC Confusion Matrix:\n",
            "[[40,  0,  0, ...,  0,  0,  0],\n",
            " [ 0, 43,  0, ...,  0,  0,  0],\n",
            " [ 0,  0, 28, ...,  0,  0,  0],\n",
            " ...,\n",
            " [ 0,  0,  0, ..., 34,  0,  0],\n",
            " [ 0,  0,  0, ...,  0, 41,  0],\n",
            " [ 0,  0,  0, ...,  0,  0, 31]]\n",
            "\n",
            "========================================\n",
            "\n",
            "RandomForest Accuracy: 1.0\n",
            "RandomForest Confusion Matrix:\n",
            "[[40,  0,  0, ...,  0,  0,  0],\n",
            " [ 0, 43,  0, ...,  0,  0,  0],\n",
            " [ 0,  0, 28, ...,  0,  0,  0],\n",
            " ...,\n",
            " [ 0,  0,  0, ..., 34,  0,  0],\n",
            " [ 0,  0,  0, ...,  0, 41,  0],\n",
            " [ 0,  0,  0, ...,  0,  0, 31]]\n",
            "\n",
            "========================================\n",
            "\n",
            "GradientBoosting Accuracy: 1.0\n",
            "GradientBoosting Confusion Matrix:\n",
            "[[40,  0,  0, ...,  0,  0,  0],\n",
            " [ 0, 43,  0, ...,  0,  0,  0],\n",
            " [ 0,  0, 28, ...,  0,  0,  0],\n",
            " ...,\n",
            " [ 0,  0,  0, ..., 34,  0,  0],\n",
            " [ 0,  0,  0, ...,  0, 41,  0],\n",
            " [ 0,  0,  0, ...,  0,  0, 31]]\n",
            "\n",
            "========================================\n",
            "\n",
            "KNeighbors Accuracy: 1.0\n",
            "KNeighbors Confusion Matrix:\n",
            "[[40,  0,  0, ...,  0,  0,  0],\n",
            " [ 0, 43,  0, ...,  0,  0,  0],\n",
            " [ 0,  0, 28, ...,  0,  0,  0],\n",
            " ...,\n",
            " [ 0,  0,  0, ..., 34,  0,  0],\n",
            " [ 0,  0,  0, ...,  0, 41,  0],\n",
            " [ 0,  0,  0, ...,  0,  0, 31]]\n",
            "\n",
            "========================================\n",
            "\n",
            "MultinomialNB Accuracy: 1.0\n",
            "MultinomialNB Confusion Matrix:\n",
            "[[40,  0,  0, ...,  0,  0,  0],\n",
            " [ 0, 43,  0, ...,  0,  0,  0],\n",
            " [ 0,  0, 28, ...,  0,  0,  0],\n",
            " ...,\n",
            " [ 0,  0,  0, ..., 34,  0,  0],\n",
            " [ 0,  0,  0, ...,  0, 41,  0],\n",
            " [ 0,  0,  0, ...,  0,  0, 31]]\n",
            "\n",
            "========================================\n",
            "\n"
          ]
        }
      ],
      "source": [
        "# Loop through the models, train, test and print results\n",
        "for model_name, model in models.items():\n",
        "\n",
        "  #Train the model\n",
        "  model.fit(X_train, y_train)\n",
        "\n",
        "  #Test the model\n",
        "  predictions = model.predict(X_test)\n",
        "\n",
        "  #Calculate accuracy\n",
        "  accuracy = accuracy_score(y_test, predictions)\n",
        "\n",
        "  print(f\"{model_name} Accuracy: {accuracy}\")\n",
        "\n",
        "  #Calculate confusion matrix\n",
        "  cm = confusion_matrix(y_test, predictions)\n",
        "  print(f\"{model_name} Confusion Matrix:\")\n",
        "  print(np.array2string(cm, separator=', '))\n",
        "\n",
        "  print(\"\\n\" + \"=\"*40 + \"\\n\")"
      ]
    },
    {
      "cell_type": "markdown",
      "metadata": {
        "id": "9zGC2gVQzxQp"
      },
      "source": [
        "## Single prediction"
      ]
    },
    {
      "cell_type": "code",
      "execution_count": 24,
      "metadata": {
        "colab": {
          "base_uri": "https://localhost:8080/"
        },
        "id": "zX9GPc1NxYzl",
        "outputId": "1f796fbe-b0c1-473e-d07b-c9405c0b8521"
      },
      "outputs": [
        {
          "data": {
            "text/plain": [
              "1.0"
            ]
          },
          "execution_count": 24,
          "metadata": {},
          "output_type": "execute_result"
        }
      ],
      "source": [
        "# SVC\n",
        "svc = SVC(kernel ='linear')\n",
        "svc.fit(X_train, y_train)\n",
        "ypred = svc.predict(X_test)\n",
        "accuracy_score(y_test, ypred)"
      ]
    },
    {
      "cell_type": "code",
      "execution_count": 25,
      "metadata": {
        "id": "GktKfp-S0Ddl"
      },
      "outputs": [],
      "source": [
        "#save svc\n",
        "import pickle\n",
        "pickle.dump(svc,open('svc.pkl','wb'))"
      ]
    },
    {
      "cell_type": "code",
      "execution_count": 26,
      "metadata": {
        "id": "La83Bx5Z0QJa"
      },
      "outputs": [],
      "source": [
        "#Load Model\n",
        "svc = pickle.load(open('svc.pkl','rb'))"
      ]
    },
    {
      "cell_type": "code",
      "execution_count": 27,
      "metadata": {
        "colab": {
          "base_uri": "https://localhost:8080/"
        },
        "id": "lvVJC1qh-EZJ",
        "outputId": "4bebf341-a3a8-4c4a-dcd1-8bab30ad4e18"
      },
      "outputs": [
        {
          "data": {
            "text/plain": [
              "array([0, 0, 0, 0, 0, 0, 1, 0, 0, 0, 0, 1, 0, 0, 0, 0, 0, 0, 0, 0, 0, 0,\n",
              "       0, 0, 0, 0, 0, 0, 0, 0, 0, 0, 1, 1, 1, 1, 0, 0, 0, 1, 1, 1, 0, 1,\n",
              "       0, 0, 0, 0, 0, 0, 0, 0, 0, 0, 0, 0, 0, 0, 0, 0, 0, 0, 0, 0, 0, 0,\n",
              "       0, 0, 0, 0, 0, 0, 0, 0, 0, 0, 0, 0, 0, 0, 0, 0, 0, 0, 0, 0, 0, 0,\n",
              "       0, 0, 0, 0, 0, 0, 0, 0, 0, 1, 0, 0, 0, 0, 0, 0, 0, 0, 0, 0, 0, 0,\n",
              "       0, 0, 0, 0, 0, 0, 0, 0, 0, 0, 0, 0, 0, 0, 0, 0, 0, 0, 0, 0, 0, 0],\n",
              "      dtype=int64)"
            ]
          },
          "execution_count": 27,
          "metadata": {},
          "output_type": "execute_result"
        }
      ],
      "source": [
        "# 1st test record\n",
        "X_test.iloc[0].values"
      ]
    },
    {
      "cell_type": "code",
      "execution_count": 28,
      "metadata": {
        "colab": {
          "base_uri": "https://localhost:8080/"
        },
        "id": "q2DEY3Je0X_f",
        "outputId": "8e50efe7-3f50-4339-cf46-b0f7252f253c"
      },
      "outputs": [
        {
          "name": "stdout",
          "output_type": "stream",
          "text": [
            "predicted disease:  [40]\n",
            "Actual Disease:  40\n"
          ]
        },
        {
          "name": "stderr",
          "output_type": "stream",
          "text": [
            "e:\\Programms\\ML Project\\medicine_recommendation_system\\.venv\\lib\\site-packages\\sklearn\\base.py:493: UserWarning: X does not have valid feature names, but SVC was fitted with feature names\n",
            "  warnings.warn(\n"
          ]
        }
      ],
      "source": [
        "#test 1\n",
        "print(\"predicted disease: \",svc.predict(X_test.iloc[0].values.reshape(1,-1)))\n",
        "print(\"Actual Disease: \",y_test[0])\n"
      ]
    },
    {
      "cell_type": "code",
      "execution_count": 29,
      "metadata": {
        "colab": {
          "base_uri": "https://localhost:8080/"
        },
        "id": "eNwKXDhz03d4",
        "outputId": "a94884d2-3c34-4687-b360-74610dfe51be"
      },
      "outputs": [
        {
          "name": "stdout",
          "output_type": "stream",
          "text": [
            "predicted disease:  [39]\n",
            "Actual Disease:  39\n"
          ]
        },
        {
          "name": "stderr",
          "output_type": "stream",
          "text": [
            "e:\\Programms\\ML Project\\medicine_recommendation_system\\.venv\\lib\\site-packages\\sklearn\\base.py:493: UserWarning: X does not have valid feature names, but SVC was fitted with feature names\n",
            "  warnings.warn(\n"
          ]
        }
      ],
      "source": [
        "#test 2\n",
        "print(\"predicted disease: \",svc.predict(X_test.iloc[100].values.reshape(1,-1)))\n",
        "print(\"Actual Disease: \",y_test[100])"
      ]
    },
    {
      "cell_type": "code",
      "execution_count": 30,
      "metadata": {
        "colab": {
          "base_uri": "https://localhost:8080/"
        },
        "id": "IB2bdgDb1Mac",
        "outputId": "6f6d918d-a1a0-4bc0-9952-148a6806d9f3"
      },
      "outputs": [
        {
          "name": "stdout",
          "output_type": "stream",
          "text": [
            "predicted disease:  [19]\n",
            "Actual Disease:  19\n"
          ]
        },
        {
          "name": "stderr",
          "output_type": "stream",
          "text": [
            "e:\\Programms\\ML Project\\medicine_recommendation_system\\.venv\\lib\\site-packages\\sklearn\\base.py:493: UserWarning: X does not have valid feature names, but SVC was fitted with feature names\n",
            "  warnings.warn(\n"
          ]
        }
      ],
      "source": [
        "#test 3\n",
        "print(\"predicted disease: \",svc.predict(X_test.iloc[44].values.reshape(1,-1)))\n",
        "print(\"Actual Disease: \",y_test[44])"
      ]
    },
    {
      "cell_type": "markdown",
      "metadata": {
        "id": "pnT8BflF1sIR"
      },
      "source": [
        "## Recommendation System and Prediction"
      ]
    },
    {
      "cell_type": "code",
      "execution_count": 31,
      "metadata": {
        "id": "y_1x-3fs1cbm"
      },
      "outputs": [],
      "source": [
        "sys_des = pd.read_csv(\"E:\\Programms\\ML Project\\medicine_recommendation_system\\datasets\\symptoms_df.csv\")\n",
        "precautions = pd.read_csv(\"E:\\Programms\\ML Project\\medicine_recommendation_system\\datasets\\precautions_df.csv\")\n",
        "workout = pd.read_csv(\"E:\\Programms\\ML Project\\medicine_recommendation_system\\datasets\\workout_df.csv\")\n",
        "description = pd.read_csv(\"E:\\Programms\\ML Project\\medicine_recommendation_system\\datasets\\description.csv\")\n",
        "medications = pd.read_csv(\"E:\\Programms\\ML Project\\medicine_recommendation_system\\datasets\\medications.csv\")\n",
        "diets = pd.read_csv(\"E:\\Programms\\ML Project\\medicine_recommendation_system\\datasets\\diets.csv\")\n"
      ]
    },
    {
      "cell_type": "code",
      "execution_count": 32,
      "metadata": {
        "id": "bolIB4g63-Dk"
      },
      "outputs": [],
      "source": [
        "#===========================================================================\n",
        "# Custom and utility functions\n",
        "#===========================================================================\n",
        "\n",
        "def helper(dis):\n",
        "  desc = description[description['Disease']== dis]['Description']\n",
        "  desc = \" \".join([w for w in desc])\n",
        "\n",
        "  pre = precautions[precautions['Disease']==dis][['Precaution_1', 'Precaution_2','Precaution_3','Precaution_4']]\n",
        "  pre = [col for col in pre.values]\n",
        "\n",
        "  med = medications[medications['Disease']== dis]['Medication']\n",
        "  med = [med for med in med.values]\n",
        "\n",
        "  # med=''\n",
        "  diet = diets[diets['Disease']== dis]['Diet']\n",
        "  diet = [diet for diet in diet.values]\n",
        "\n",
        "  wrkout = workout[workout['disease']==dis]['workout']\n",
        "\n",
        "  return desc,pre,med,diet,wrkout\n",
        "\n",
        "symptoms_dict = {'itching': 0, 'skin_rash': 1, 'nodal_skin_eruptions': 2, 'continuous_sneezing': 3, 'shivering': 4, 'chills': 5, 'joint_pain': 6, 'stomach_pain': 7, 'acidity': 8, 'ulcers_on_tongue': 9, 'muscle_wasting': 10, 'vomiting': 11, 'burning_micturition': 12, 'spotting_ urination': 13, 'fatigue': 14, 'weight_gain': 15, 'anxiety': 16, 'cold_hands_and_feets': 17, 'mood_swings': 18, 'weight_loss': 19, 'restlessness': 20, 'lethargy': 21, 'patches_in_throat': 22, 'irregular_sugar_level': 23, 'cough': 24, 'high_fever': 25, 'sunken_eyes': 26, 'breathlessness': 27, 'sweating': 28, 'dehydration': 29, 'indigestion': 30, 'headache': 31, 'yellowish_skin': 32, 'dark_urine': 33, 'nausea': 34, 'loss_of_appetite': 35, 'pain_behind_the_eyes': 36, 'back_pain': 37, 'constipation': 38, 'abdominal_pain': 39, 'diarrhoea': 40, 'mild_fever': 41, 'yellow_urine': 42, 'yellowing_of_eyes': 43, 'acute_liver_failure': 44, 'fluid_overload': 45, 'swelling_of_stomach': 46, 'swelled_lymph_nodes': 47, 'malaise': 48, 'blurred_and_distorted_vision': 49, 'phlegm': 50, 'throat_irritation': 51, 'redness_of_eyes': 52, 'sinus_pressure': 53, 'runny_nose': 54, 'congestion': 55, 'chest_pain': 56, 'weakness_in_limbs': 57, 'fast_heart_rate': 58, 'pain_during_bowel_movements': 59, 'pain_in_anal_region': 60, 'bloody_stool': 61, 'irritation_in_anus': 62, 'neck_pain': 63, 'dizziness': 64, 'cramps': 65, 'bruising': 66, 'obesity': 67, 'swollen_legs': 68, 'swollen_blood_vessels': 69, 'puffy_face_and_eyes': 70, 'enlarged_thyroid': 71, 'brittle_nails': 72, 'swollen_extremeties': 73, 'excessive_hunger': 74, 'extra_marital_contacts': 75, 'drying_and_tingling_lips': 76, 'slurred_speech': 77, 'knee_pain': 78, 'hip_joint_pain': 79, 'muscle_weakness': 80, 'stiff_neck': 81, 'swelling_joints': 82, 'movement_stiffness': 83, 'spinning_movements': 84, 'loss_of_balance': 85, 'unsteadiness': 86, 'weakness_of_one_body_side': 87, 'loss_of_smell': 88, 'bladder_discomfort': 89, 'foul_smell_of urine': 90, 'continuous_feel_of_urine': 91, 'passage_of_gases': 92, 'internal_itching': 93, 'toxic_look_(typhos)': 94, 'depression': 95, 'irritability': 96, 'muscle_pain': 97, 'altered_sensorium': 98, 'red_spots_over_body': 99, 'belly_pain': 100, 'abnormal_menstruation': 101, 'dischromic _patches': 102, 'watering_from_eyes': 103, 'increased_appetite': 104, 'polyuria': 105, 'family_history': 106, 'mucoid_sputum': 107, 'rusty_sputum': 108, 'lack_of_concentration': 109, 'visual_disturbances': 110, 'receiving_blood_transfusion': 111, 'receiving_unsterile_injections': 112, 'coma': 113, 'stomach_bleeding': 114, 'distention_of_abdomen': 115, 'history_of_alcohol_consumption': 116, 'fluid_overload.1': 117, 'blood_in_sputum': 118, 'prominent_veins_on_calf': 119, 'palpitations': 120, 'painful_walking': 121, 'pus_filled_pimples': 122, 'blackheads': 123, 'scurring': 124, 'skin_peeling': 125, 'silver_like_dusting': 126, 'small_dents_in_nails': 127, 'inflammatory_nails': 128, 'blister': 129, 'red_sore_around_nose': 130, 'yellow_crust_ooze': 131}\n",
        "diseases_list = {15: 'Fungal infection', 4: 'Allergy', 16: 'GERD', 9: 'Chronic cholestasis', 14: 'Drug Reaction', 33: 'Peptic ulcer diseae', 1: 'AIDS', 12: 'Diabetes ', 17: 'Gastroenteritis', 6: 'Bronchial Asthma', 23: 'Hypertension ', 30: 'Migraine', 7: 'Cervical spondylosis', 32: 'Paralysis (brain hemorrhage)', 28: 'Jaundice', 29: 'Malaria', 8: 'Chicken pox', 11: 'Dengue', 37: 'Typhoid', 40: 'hepatitis A', 19: 'Hepatitis B', 20: 'Hepatitis C', 21: 'Hepatitis D', 22: 'Hepatitis E', 3: 'Alcoholic hepatitis', 36: 'Tuberculosis', 10: 'Common Cold', 34: 'Pneumonia', 13: 'Dimorphic hemmorhoids(piles)', 18: 'Heart attack', 39: 'Varicose veins', 26: 'Hypothyroidism', 24: 'Hyperthyroidism', 25: 'Hypoglycemia', 31: 'Osteoarthristis', 5: 'Arthritis', 0: '(vertigo) Paroymsal  Positional Vertigo', 2: 'Acne', 38: 'Urinary tract infection', 35: 'Psoriasis', 27: 'Impetigo'}\n",
        "\n",
        "\n",
        "#Model Prediction Function\n",
        "def get_predicted_value(patient_symptoms):\n",
        "  input_vector = np.zeros(len(symptoms_dict))\n",
        "  for item in patient_symptoms:\n",
        "    input_vector[symptoms_dict[item]]=1\n",
        "  return diseases_list[svc.predict([input_vector])[0]]"
      ]
    },
    {
      "cell_type": "code",
      "execution_count": 35,
      "metadata": {
        "colab": {
          "base_uri": "https://localhost:8080/"
        },
        "id": "vvSPwol_BMqF",
        "outputId": "3474a4d7-e032-439b-b316-f5eda0efe7aa"
      },
      "outputs": [
        {
          "name": "stdout",
          "output_type": "stream",
          "text": [
            "desc:  Fungal infection is a common skin condition caused by fungi. \n",
            "pre: [array(['bath twice', 'use detol or neem in bathing water',\n",
            "       'keep infected area dry', 'use clean cloths'], dtype=object)] \n",
            "med: [\"['Antifungal Cream', 'Fluconazole', 'Terbinafine', 'Clotrimazole', 'Ketoconazole']\"] \n",
            "dies: [\"['Antifungal Diet', 'Probiotics', 'Garlic', 'Coconut oil', 'Turmeric']\"] \n",
            "workout: 0           Avoid sugary foods\n",
            "1           Consume probiotics\n",
            "2    Increase intake of garlic\n",
            "3       Include yogurt in diet\n",
            "4        Limit processed foods\n",
            "5                Stay hydrated\n",
            "6            Consume green tea\n",
            "7       Eat foods rich in zinc\n",
            "8     Include turmeric in diet\n",
            "9    Eat fruits and vegetables\n",
            "Name: workout, dtype: object\n"
          ]
        },
        {
          "name": "stderr",
          "output_type": "stream",
          "text": [
            "e:\\Programms\\ML Project\\medicine_recommendation_system\\.venv\\lib\\site-packages\\sklearn\\base.py:493: UserWarning: X does not have valid feature names, but SVC was fitted with feature names\n",
            "  warnings.warn(\n"
          ]
        }
      ],
      "source": [
        "# test 1\n",
        "symptoms = input(\"Enter your symptoms....\")\n",
        "user_symptoms = [s.strip() for s in symptoms.split(',')]\n",
        "user_symptoms = [sym.strip(\"[]' \") for sym in user_symptoms]\n",
        "pred_disease = get_predicted_value(user_symptoms)\n",
        "pred_disease\n",
        "\n",
        "#calling helper function\n",
        "desc,pre,med,diet,wrkout = helper(pred_disease)\n",
        "print(\"desc: \" , desc , \"\\npre:\", pre, \"\\nmed:\",med, \"\\ndies:\", diet, \"\\nworkout:\", wrkout)\n"
      ]
    },
    {
      "cell_type": "code",
      "execution_count": 36,
      "metadata": {
        "id": "EfAKyhn8T3hf"
      },
      "outputs": [],
      "source": [
        "def helper2(dis):\n",
        "    desc = description[description['Disease'] == dis]['Description'].values[0]\n",
        "\n",
        "    pre = precautions[precautions['Disease'] == dis][['Precaution_1', 'Precaution_2', 'Precaution_3', 'Precaution_4']].values[0]\n",
        "\n",
        "    med = medications[medications['Disease'] == dis]['Medication'].values.tolist()\n",
        "\n",
        "    diet = diets[diets['Disease'] == dis]['Diet'].values.tolist()\n",
        "\n",
        "    wrkout = workout[workout['disease'] == dis]['workout'].values.tolist()\n",
        "\n",
        "    return desc, pre, med, diet, wrkout\n"
      ]
    },
    {
      "cell_type": "code",
      "execution_count": 37,
      "metadata": {
        "colab": {
          "base_uri": "https://localhost:8080/"
        },
        "id": "zD69QzYaRqMS",
        "outputId": "551ce0f1-91b3-4f5b-abc3-353fc6b9e08d"
      },
      "outputs": [
        {
          "name": "stdout",
          "output_type": "stream",
          "text": [
            "Index(['Disease', 'Medication'], dtype='object')\n"
          ]
        }
      ],
      "source": [
        "print(medications.columns)\n"
      ]
    },
    {
      "cell_type": "code",
      "execution_count": 40,
      "metadata": {
        "colab": {
          "base_uri": "https://localhost:8080/"
        },
        "id": "JI03OzTzQxAq",
        "outputId": "789e42b4-78aa-4f3c-c0ea-c67ba1ed7a15"
      },
      "outputs": [
        {
          "name": "stdout",
          "output_type": "stream",
          "text": [
            "=================predicted disease============\n",
            "Urinary tract infection\n",
            "=================description==================\n",
            "Urinary tract infection is an infection in any part of the urinary system.\n",
            "=================precautions==================\n",
            "1 :  drink plenty of water\n",
            "2 :  increase vitamin c intake\n",
            "3 :  drink cranberry juice\n",
            "4 :  take probiotics\n",
            "=================medications==================\n",
            "5 :  ['Antibiotics', 'Urinary analgesics', 'Phenazopyridine', 'Antispasmodics', 'Probiotics']\n",
            "=================workout==================\n",
            "6 :  Stay hydrated\n",
            "7 :  Consume cranberry products\n",
            "8 :  Include vitamin C-rich foods\n",
            "9 :  Limit caffeine and alcohol\n",
            "10 :  Consume probiotics\n",
            "11 :  Avoid spicy and acidic foods\n",
            "12 :  Consult a healthcare professional\n",
            "13 :  Follow medical recommendations\n",
            "14 :  Maintain good hygiene\n",
            "15 :  Limit sugary foods and beverages\n",
            "=================diets==================\n",
            "16 :  ['UTI Diet', 'Hydration', 'Cranberry juice', 'Probiotics', 'Vitamin C-rich foods']\n"
          ]
        },
        {
          "name": "stderr",
          "output_type": "stream",
          "text": [
            "e:\\Programms\\ML Project\\medicine_recommendation_system\\.venv\\lib\\site-packages\\sklearn\\base.py:493: UserWarning: X does not have valid feature names, but SVC was fitted with feature names\n",
            "  warnings.warn(\n"
          ]
        }
      ],
      "source": [
        "# Test 1\n",
        "# Split the user's input into a list of symptoms (assuming they are comma-separated) # itching,skin_rash,nodal_skin_eruptions\n",
        "symptoms = input(\"Enter your symptoms.......\")\n",
        "user_symptoms = [s.strip() for s in symptoms.split(',')]\n",
        "# Remove any extra characters, if any\n",
        "user_symptoms = [symptom.strip(\"[]' \") for symptom in user_symptoms]\n",
        "predicted_disease = get_predicted_value(user_symptoms)\n",
        "\n",
        "desc, pre, med, diet, wrkout = helper(predicted_disease)\n",
        "\n",
        "print(\"=================predicted disease============\")\n",
        "print(predicted_disease)\n",
        "print(\"=================description==================\")\n",
        "print(desc)\n",
        "print(\"=================precautions==================\")\n",
        "i = 1\n",
        "for p_i in pre[0]:\n",
        "    print(i, \": \", p_i)\n",
        "    i += 1\n",
        "\n",
        "print(\"=================medications==================\")\n",
        "for m_i in med:\n",
        "    print(i, \": \", m_i)\n",
        "    i += 1\n",
        "\n",
        "print(\"=================workout==================\")\n",
        "for w_i in wrkout:\n",
        "    print(i, \": \", w_i)\n",
        "    i += 1\n",
        "\n",
        "print(\"=================diets==================\")\n",
        "for d_i in diet:\n",
        "    print(i, \": \", d_i)\n",
        "    i += 1"
      ]
    },
    {
      "cell_type": "code",
      "execution_count": null,
      "metadata": {
        "colab": {
          "base_uri": "https://localhost:8080/"
        },
        "id": "uNyJOUhgOavw",
        "outputId": "e5f7b9ab-fcfb-410e-a634-47b8385ff3db"
      },
      "outputs": [
        {
          "name": "stdout",
          "output_type": "stream",
          "text": [
            "1.4.1.post1\n"
          ]
        }
      ],
      "source": [
        "import sklearn\n",
        "print(sklearn.__version__)"
      ]
    }
  ],
  "metadata": {
    "accelerator": "GPU",
    "colab": {
      "gpuType": "T4",
      "provenance": []
    },
    "kernelspec": {
      "display_name": "Python 3",
      "name": "python3"
    },
    "language_info": {
      "codemirror_mode": {
        "name": "ipython",
        "version": 3
      },
      "file_extension": ".py",
      "mimetype": "text/x-python",
      "name": "python",
      "nbconvert_exporter": "python",
      "pygments_lexer": "ipython3",
      "version": "3.10.2"
    }
  },
  "nbformat": 4,
  "nbformat_minor": 0
}
